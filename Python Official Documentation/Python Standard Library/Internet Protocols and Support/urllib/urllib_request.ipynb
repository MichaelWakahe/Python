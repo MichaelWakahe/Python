{
 "cells": [
  {
   "cell_type": "markdown",
   "metadata": {},
   "source": [
    "# [urllib.request](https://docs.python.org/3.8/library/urllib.request.html#module-urllib.request) — Extensible library for opening URLs"
   ]
  },
  {
   "cell_type": "code",
   "execution_count": 3,
   "metadata": {},
   "outputs": [],
   "source": [
    "import urllib.request "
   ]
  },
  {
   "cell_type": "code",
   "execution_count": 21,
   "metadata": {},
   "outputs": [
    {
     "name": "stdout",
     "output_type": "stream",
     "text": [
      "b'<!DOCTYPE html>\\n<html lang=\"en-GB\" class=\"no-js\">\\n<head>\\n\\t<meta charset=\"UTF-8\">\\n\\t<meta name=\"viewport\" content=\"width=device-width, initial-scale=1\">\\n\\t<link rel=\"profile\" href=\"http://gmpg.org/xfn/11\">\\n\\t\\t<script>(function(html){html.className = html.className.replace(/\\\\bno-js\\\\b/,\\'js\\')})(document.documentElement);</script>\\n<title>Michael Wakahe &#8211; A curious mind</title>\\n<link rel=\\'dns-prefetch\\' href=\\'//s0.wp.com\\' />\\n<link rel=\\'dns-prefetch\\' href=\\'//s.gravatar.com\\' />\\n<link rel=\\'dns-prefetch\\' href=\\'//fonts.googleapis.com\\' />\\n<link rel=\\'dns-prefetch\\' href=\\'//s.w.org\\' />\\n<link rel=\"alternate\" type=\"application/rss+xml\" title=\"Michael Wakahe &raquo; Feed\" href=\"http://www.michaelwakahe.com/index.php/feed/\" />\\n<link rel=\"alternate\" type=\"application/rss+xml\" title=\"Michael Wakahe &raquo; Comments Feed\" href=\"http://www.michaelwakahe.com/index.php/comments/feed/\" />\\n\\t\\t<script type=\"text/javascript\">\\n\\t\\t\\twindow._wpemojiSettings = {\"baseUrl\":\"https:\\\\/\\\\/s.w.org\\\\/images\\\\/core\\\\/emoji\\\\/11\\\\/72x72\\\\/\",\"ext\":\".png\",\"svgUrl\":\"https:\\\\/\\\\/s.w.org\\\\/images\\\\/core\\\\/emoji\\\\/11\\\\/svg\\\\/\",\"svgExt\":\".svg\",\"source\":{\"concatemoji\":\"http:\\\\/\\\\/www.michaelwakahe.com\\\\/wp-includes\\\\/js\\\\/wp-emoji-release.min.js?ver=4.9.15\"}};\\n\\t\\t\\t!function(a,b,c){function d(a,b){var c=String.fromCharCode;l.clearRect(0,0,k.width,k.height),l.fillText(c.apply(this,a),0,0);var d=k.toDataURL();l.clearRect(0,0,k.width,k.height),l.fillText(c.apply(this,b),0,0);var e=k.toDataURL();return d===e}function e(a){var b;if(!l||!l.fillText)return!1;switch(l.textBaseline=\"top\",l.font=\"600 32px Arial\",a){case\"flag\":return!(b=d([55356,56826,55356,56819],[55356,56826,8203,55356,56819]))&&(b=d([55356,57332,56128,56423,56128,56418,56128,56421,56128,56430,56128,56423,56128,56447],[55356,57332,8203,56128,56423,8203,56128,56418,8203,56128,56421,8203,56128,56430,8203,56128,56423,8203,56128,56447]),!b);case\"emoji\":return b=d([55358,56760,9792,65039],[55358,56760,8203,9792,65039]),!b}return!1}function f(a){var c=b.createElement(\"script\");c.src=a,c.defer=c.type=\"text/javascript\",b.getElementsByTagName(\"head\")[0].appendChild(c)}var g,h,i,j,k=b.createElement(\"canvas\"),l=k.getContext&&k.getContext(\"2d\");for(j=Array(\"flag\",\"emoji\"),c.supports={everything:!0,everythingExceptFlag:!0},i=0;i<j.length;i++)c.supports[j[i]]=e(j[i]),c.supports.everything=c.supports.everything&&c.supports[j[i]],\"flag\"!==j[i]&&(c.supports.everythingExceptFlag=c.supports.everythingExceptFlag&&c.supports[j[i]]);c.supports.everythingExceptFlag=c.supports.everythingExceptFlag&&!c.supports.flag,c.DOMReady=!1,c.readyCallback=function(){c.DOMReady=!0},c.supports.everything||(h=function(){c.readyCallback()},b.addEventListener?(b.addEventListener(\"DOMContentLoaded\",h,!1),a.addEventListener(\"load\",h,!1)):(a.attachEvent(\"onload\",h),b.attachEvent(\"onreadystatechange\",function(){\"complete\"===b.readyState&&c.readyCallback()})),g=c.source||{},g.concatemoji?f(g.concatemoji):g.wpemoji&&g.twemoji&&(f(g.twemoji),f(g.wpemoji)))}(window,document,window._wpemojiSettings);\\n\\t\\t</script>\\n\\t\\t<style type=\"text/css\">\\nimg.wp-smiley,\\nimg.emoji {\\n\\tdisplay: inline !important;\\n\\tborder: none !important;\\n\\tbox-shadow: none !important;\\n\\theight: 1em !important;\\n\\twidth: 1em !important;\\n\\tmargin: 0 .07em !important;\\n\\tvertical-align: -0.1em !important;\\n\\tbackground: none !important;\\n\\tpadding: 0 !important;\\n}\\n</style>\\n<link rel=\\'stylesheet\\' id=\\'twentysixteen-jetpack-css\\'  href=\\'http://www.michaelwakahe.com/wp-content/plugins/jetpack/modules/theme-tools/compat/twentysixteen.css?ver=5.7.2\\' type=\\'text/css\\' media=\\'all\\' />\\n<link rel=\\'stylesheet\\' id=\\'twentysixteen-fonts-css\\'  href=\\'https://fonts.googleapis.com/css?family=Merriweather%3A400%2C700%2C900%2C400italic%2C700italic%2C900italic%7CMontserrat%3A400%2C700%7CInconsolata%3A400&#038;subset=latin%2Clatin-ext\\' type=\\'text/css\\' media=\\'all\\' />\\n<link rel=\\'stylesheet\\' id=\\'genericons-css\\'  href=\\'http://www.michaelwakahe.com/wp-content/plugins/jetpack/_inc/genericons/genericons/genericons.css?ver=3.1\\' type=\\'text/css\\' media=\\'all\\' />\\n<link rel=\\'stylesheet\\' id=\\'twentysixteen-style-css\\'  href=\\'http://www.michaelwakahe.com/wp-content/themes/twentysixteen/style.css?ver=4.9.15\\' type=\\'text/css\\' media=\\'all\\' />\\n<!--[if lt IE 10]>\\n<link rel=\\'stylesheet\\' id=\\'twentysixteen-ie-css\\'  href=\\'http://www.michaelwakahe.com/wp-content/themes/twentysixteen/css/ie.css?ver=20160816\\' type=\\'text/css\\' media=\\'all\\' />\\n<![endif]-->\\n<!--[if lt IE 9]>\\n<link rel=\\'stylesheet\\' id=\\'twentysixteen-ie8-css\\'  href=\\'http://www.michaelwakahe.com/wp-content/themes/twentysixteen/css/ie8.css?ver=20160816\\' type=\\'text/css\\' media=\\'all\\' />\\n<![endif]-->\\n<!--[if lt IE 8]>\\n<link rel=\\'stylesheet\\' id=\\'twentysixteen-ie7-css\\'  href=\\'http://www.michaelwakahe.com/wp-content/themes/twentysixteen/css/ie7.css?ver=20160816\\' type=\\'text/css\\' media=\\'all\\' />\\n<![endif]-->\\n<link rel=\\'stylesheet\\' id=\\'jetpack_css-css\\'  href=\\'http://www.michaelwakahe.com/wp-content/plugins/jetpack/css/jetpack.css?ver=5.7.2\\' type=\\'text/css\\' media=\\'all\\' />\\n<script type=\\'text/javascript\\' src=\\'http://www.michaelwakahe.com/wp-includes/js/jquery/jquery.js?ver=1.12.4\\'></script>\\n<script type=\\'text/javascript\\' src=\\'http://www.michaelwakahe.com/wp-includes/js/jquery/jquery-migrate.min.js?ver=1.4.1\\'></script>\\n<!--[if lt IE 9]>\\n<script type=\\'text/javascript\\' src=\\'http://www.michaelwakahe.com/wp-content/themes/twentysixteen/js/html5.js?ver=3.7.3\\'></script>\\n<![endif]-->\\n<link rel=\\'https://api.w.org/\\' href=\\'http://www.michaelwakahe.com/index.php/wp-json/\\' />\\n<link rel=\"EditURI\" type=\"application/rsd+xml\" title=\"RSD\" href=\"http://www.michaelwakahe.com/xmlrpc.php?rsd\" />\\n<link rel=\"wlwmanifest\" type=\"application/wlwmanifest+xml\" href=\"http://www.michaelwakahe.com/wp-includes/wlwmanifest.xml\" /> \\n<meta name=\"generator\" content=\"WordPress 4.9.15\" />\\n<link rel=\"canonical\" href=\"http://www.michaelwakahe.com/\" />\\n<link rel=\\'shortlink\\' href=\\'https://wp.me/P9wQQp-1N\\' />\\n<link rel=\"alternate\" type=\"application/json+oembed\" href=\"http://www.michaelwakahe.com/index.php/wp-json/oembed/1.0/embed?url=http%3A%2F%2Fwww.michaelwakahe.com%2F\" />\\n<link rel=\"alternate\" type=\"text/xml+oembed\" href=\"http://www.michaelwakahe.com/index.php/wp-json/oembed/1.0/embed?url=http%3A%2F%2Fwww.michaelwakahe.com%2F&#038;format=xml\" />\\n\\r\\n<link rel=\\'dns-prefetch\\' href=\\'//v0.wordpress.com\\'/>\\r\\n<link rel=\\'dns-prefetch\\' href=\\'//widgets.wp.com\\'/>\\r\\n<link rel=\\'dns-prefetch\\' href=\\'//s0.wp.com\\'/>\\r\\n<link rel=\\'dns-prefetch\\' href=\\'//0.gravatar.com\\'/>\\r\\n<link rel=\\'dns-prefetch\\' href=\\'//1.gravatar.com\\'/>\\r\\n<link rel=\\'dns-prefetch\\' href=\\'//2.gravatar.com\\'/>\\r\\n<link rel=\\'dns-prefetch\\' href=\\'//i0.wp.com\\'/>\\r\\n<link rel=\\'dns-prefetch\\' href=\\'//i1.wp.com\\'/>\\r\\n<link rel=\\'dns-prefetch\\' href=\\'//i2.wp.com\\'/>\\r\\n<style type=\\'text/css\\'>img#wpstats{display:none}</style>\\n<!-- Jetpack Open Graph Tags -->\\n<meta property=\"og:type\" content=\"website\" />\\n<meta property=\"og:title\" content=\"Michael Wakahe\" />\\n<meta property=\"og:description\" content=\"A curious mind\" />\\n<meta property=\"og:url\" content=\"http://www.michaelwakahe.com/\" />\\n<meta property=\"og:site_name\" content=\"Michael Wakahe\" />\\n<meta property=\"og:image\" content=\"http://www.michaelwakahe.com/wp-content/uploads/2017/02/DSC_6577-680x1024.jpg\" />\\n<meta property=\"og:image:secure_url\" content=\"https://i1.wp.com/www.michaelwakahe.com/wp-content/uploads/2017/02/DSC_6577-680x1024.jpg\" />\\n<meta property=\"og:image:width\" content=\"680\" />\\n<meta property=\"og:image:height\" content=\"1024\" />\\n<meta property=\"og:locale\" content=\"en_GB\" />\\n<meta name=\"twitter:text:title\" content=\"Michael Wakahe\" />\\n<meta name=\"twitter:image\" content=\"http://www.michaelwakahe.com/wp-content/uploads/2017/02/DSC_6577-680x1024.jpg?w=1400\" />\\n<meta name=\"twitter:card\" content=\"summary_large_image\" />\\n</head>\\n\\n<body class=\"home page-template-default page page-id-111\">\\n<div id=\"page\" class=\"site\">\\n\\t<div class=\"site-inner\">\\n\\t\\t<a class=\"skip-link screen-reader-text\" href=\"#content\">Skip to content</a>\\n\\n\\t\\t<header id=\"masthead\" class=\"site-header\" role=\"banner\">\\n\\t\\t\\t<div class=\"site-header-main\">\\n\\t\\t\\t\\t<div class=\"site-branding\">\\n\\t\\t\\t\\t\\t\\n\\t\\t\\t\\t\\t\\t\\t\\t\\t\\t\\t<p class=\"site-title\"><a href=\"http://www.michaelwakahe.com/\" rel=\"home\">Michael Wakahe</a></p>\\n\\t\\t\\t\\t\\t\\t\\t\\t\\t\\t\\t<p class=\"site-description\">A curious mind</p>\\n\\t\\t\\t\\t\\t\\t\\t\\t\\t</div><!-- .site-branding -->\\n\\n\\t\\t\\t\\t\\t\\t\\t\\t\\t<button id=\"menu-toggle\" class=\"menu-toggle\">Menu</button>\\n\\n\\t\\t\\t\\t\\t<div id=\"site-header-menu\" class=\"site-header-menu\">\\n\\t\\t\\t\\t\\t\\t\\t\\t\\t\\t\\t\\t\\t<nav id=\"site-navigation\" class=\"main-navigation\" role=\"navigation\" aria-label=\"Primary Menu\">\\n\\t\\t\\t\\t\\t\\t\\t\\t<div class=\"menu-top-menu-container\"><ul id=\"menu-top-menu\" class=\"primary-menu\"><li id=\"menu-item-38\" class=\"menu-item menu-item-type-custom menu-item-object-custom current-menu-item current_page_item menu-item-home menu-item-38\"><a href=\"http://www.michaelwakahe.com\">Home</a></li>\\n<li id=\"menu-item-40\" class=\"menu-item menu-item-type-post_type menu-item-object-page menu-item-40\"><a href=\"http://www.michaelwakahe.com/index.php/blog/\">Blog</a></li>\\n</ul></div>\\t\\t\\t\\t\\t\\t\\t</nav><!-- .main-navigation -->\\n\\t\\t\\t\\t\\t\\t\\n\\t\\t\\t\\t\\t\\t\\t\\t\\t\\t\\t</div><!-- .site-header-menu -->\\n\\t\\t\\t\\t\\t\\t\\t</div><!-- .site-header-main -->\\n\\n\\t\\t\\t\\t\\t</header><!-- .site-header -->\\n\\n\\t\\t<div id=\"content\" class=\"site-content\">\\n\\n<div id=\"primary\" class=\"content-area\">\\n\\t<main id=\"main\" class=\"site-main\" role=\"main\">\\n\\t\\t\\n<article id=\"post-111\" class=\"post-111 page type-page status-publish hentry\">\\n\\t<header class=\"entry-header\">\\n\\t\\t\\t</header><!-- .entry-header -->\\n\\n\\t\\n\\t<div class=\"entry-content\">\\n\\t\\t<p><img src=\"https://i0.wp.com/www.michaelwakahe.com/wp-content/uploads/2017/02/DSC_6577.jpg?resize=680%2C1024\" alt=\"Michael Wakahe\" width=\"680\" height=\"1024\" data-recalc-dims=\"1\" /></p>\\n\\t</div><!-- .entry-content -->\\n\\n\\t\\n</article><!-- #post-## -->\\n\\n\\t</main><!-- .site-main -->\\n\\n\\t\\n</div><!-- .content-area -->\\n\\n\\n\\t<aside id=\"secondary\" class=\"sidebar widget-area\" role=\"complementary\">\\n\\t\\t<section id=\"text-7\" class=\"widget-odd widget-first widget-1 widget widget_text\"><h2 class=\"widget-title\">About Michael</h2>\\t\\t\\t<div class=\"textwidget\"><p>A curious mind, passionate about information technology and management.</p>\\n<p>Find me also on:</p>\\n<ul>\\n<li><a href=\"https://twitter.com/MichaelWakahe\">Twitter</a></li>\\n<li><a href=\"https://mwakahe.quora.com\">Quora</a></li>\\n<li><a href=\"https://github.com/MichaelWakahe\">GitHub</a></li>\\n<li><a href=\"http://www.linkedin.com/in/michael-wakahe\">LinkedIn</a></li>\\n</ul>\\n</div>\\n\\t\\t</section><section id=\"text-6\" class=\"widget-even widget-2 widget widget_text\"><h2 class=\"widget-title\">Location</h2>\\t\\t\\t<div class=\"textwidget\"><p><strong>Address</strong><br />\\nNairobi, Kenya</p>\\n<p><strong>Email</strong><br />\\nmichael@michaelwakahe.com</p>\\n</div>\\n\\t\\t</section><section id=\"meta-4\" class=\"widget-odd widget-last widget-3 widget widget_meta\"><h2 class=\"widget-title\">login</h2>\\t\\t\\t<ul>\\n\\t\\t\\t\\t\\t\\t<li><a href=\"http://www.michaelwakahe.com/wp-login.php\">Log in</a></li>\\n\\t\\t\\t<li><a href=\"http://www.michaelwakahe.com/index.php/feed/\">Entries <abbr title=\"Really Simple Syndication\">RSS</abbr></a></li>\\n\\t\\t\\t<li><a href=\"http://www.michaelwakahe.com/index.php/comments/feed/\">Comments <abbr title=\"Really Simple Syndication\">RSS</abbr></a></li>\\n\\t\\t\\t<li><a href=\"https://wordpress.org/\" title=\"Powered by WordPress, state-of-the-art semantic personal publishing platform.\">WordPress.org</a></li>\\t\\t\\t</ul>\\n\\t\\t\\t</section>\\t</aside><!-- .sidebar .widget-area -->\\n\\n\\t\\t</div><!-- .site-content -->\\n\\n\\t\\t<footer id=\"colophon\" class=\"site-footer\" role=\"contentinfo\">\\n\\t\\t\\t\\t\\t\\t\\t<nav class=\"main-navigation\" role=\"navigation\" aria-label=\"Footer Primary Menu\">\\n\\t\\t\\t\\t\\t<div class=\"menu-top-menu-container\"><ul id=\"menu-top-menu-1\" class=\"primary-menu\"><li class=\"menu-item menu-item-type-custom menu-item-object-custom current-menu-item current_page_item menu-item-home menu-item-38\"><a href=\"http://www.michaelwakahe.com\">Home</a></li>\\n<li class=\"menu-item menu-item-type-post_type menu-item-object-page menu-item-40\"><a href=\"http://www.michaelwakahe.com/index.php/blog/\">Blog</a></li>\\n</ul></div>\\t\\t\\t\\t</nav><!-- .main-navigation -->\\n\\t\\t\\t\\n\\t\\t\\t\\n\\t\\t\\t<div class=\"site-info\">\\n\\t\\t\\t\\t\\t\\t\\t\\t<span class=\"site-title\"><a href=\"http://www.michaelwakahe.com/\" rel=\"home\">Michael Wakahe</a></span>\\n\\t\\t\\t\\t<a href=\"https://wordpress.org/\">Proudly powered by WordPress</a>\\n\\t\\t\\t</div><!-- .site-info -->\\n\\t\\t</footer><!-- .site-footer -->\\n\\t</div><!-- .site-inner -->\\n</div><!-- .site -->\\n\\n\\t<div style=\"display:none\">\\n\\t</div>\\n<script type=\\'text/javascript\\' src=\\'http://www.michaelwakahe.com/wp-content/plugins/jetpack/_inc/build/photon/photon.min.js?ver=20130122\\'></script>\\n<script type=\\'text/javascript\\' src=\\'https://s0.wp.com/wp-content/js/devicepx-jetpack.js?ver=202042\\'></script>\\n<script type=\\'text/javascript\\' src=\\'http://s.gravatar.com/js/gprofiles.js?ver=2020Octaa\\'></script>\\n<script type=\\'text/javascript\\'>\\n/* <![CDATA[ */\\nvar WPGroHo = {\"my_hash\":\"\"};\\n/* ]]> */\\n</script>\\n<script type=\\'text/javascript\\' src=\\'http://www.michaelwakahe.com/wp-content/plugins/jetpack/modules/wpgroho.js?ver=4.9.15\\'></script>\\n<script type=\\'text/javascript\\' src=\\'http://www.michaelwakahe.com/wp-content/themes/twentysixteen/js/skip-link-focus-fix.js?ver=20160816\\'></script>\\n<script type=\\'text/javascript\\'>\\n/* <![CDATA[ */\\nvar screenReaderText = {\"expand\":\"expand child menu\",\"collapse\":\"collapse child menu\"};\\n/* ]]> */\\n</script>\\n<script type=\\'text/javascript\\' src=\\'http://www.michaelwakahe.com/wp-content/themes/twentysixteen/js/functions.js?ver=20160816\\'></script>\\n<script type=\\'text/javascript\\' src=\\'http://www.michaelwakahe.com/wp-includes/js/wp-embed.min.js?ver=4.9.15\\'></script>\\n<script type=\\'text/javascript\\' src=\\'https://stats.wp.com/e-202042.js\\' async defer></script>\\n<script type=\\'text/javascript\\'>\\n\\t_stq = window._stq || [];\\n\\t_stq.push([ \\'view\\', {v:\\'ext\\',j:\\'1:5.7.2\\',blog:\\'140816657\\',post:\\'111\\',tz:\\'3\\',srv:\\'www.michaelwakahe.com\\'} ]);\\n\\t_stq.push([ \\'clickTrackerInit\\', \\'140816657\\', \\'111\\' ]);\\n</script>\\n</body>\\n</html>\\n'\n",
      "\n",
      "\n",
      "'HTTPResponse' object has no attribute 'full_url'\n"
     ]
    }
   ],
   "source": [
    "try: \n",
    "    x = urllib.request.urlopen('http://www.michaelwakahe.com')  # For HTTP and HTTPS URLs, this function returns a http.client.HTTPResponse object slightly modified.\n",
    "    print(x.read()) \n",
    "    print(\"\\n\")\n",
    "    print(x.full_url)\n",
    "  \n",
    "# Catching the exception generated      \n",
    "except Exception as e : \n",
    "    print(str(e)) "
   ]
  },
  {
   "cell_type": "code",
   "execution_count": 22,
   "metadata": {},
   "outputs": [
    {
     "name": "stdout",
     "output_type": "stream",
     "text": [
      "Exception is: <urlopen error [Errno -2] Name or service not known>\n"
     ]
    }
   ],
   "source": [
    "# A non-existent URL\n",
    "import urllib.error \n",
    "try: \n",
    "    x = urllib.request.urlopen('http://www.michaelwakahe2.com') \n",
    "    print(x.read()) \n",
    "  \n",
    "# Catching the exception generated      \n",
    "except Exception as e : \n",
    "    print('Exception is: ' + str(e)) "
   ]
  },
  {
   "cell_type": "code",
   "execution_count": 16,
   "metadata": {},
   "outputs": [],
   "source": [
    "from urllib.parse import urlparse, urlunparse"
   ]
  },
  {
   "cell_type": "code",
   "execution_count": 19,
   "metadata": {},
   "outputs": [
    {
     "name": "stdout",
     "output_type": "stream",
     "text": [
      "ParseResult(scheme='https', netloc='jiji.co.ke', path='/parklands-highridge/cars/lexus-rx-2009-white-uH17rjuEUrDi82TExWURNYoW.html', params='', query='lid=2ahVoB-0WVLnqJv8&cur_pos=6&pos=6&ads_count=273&ads_per_page=20&page=1', fragment='')\n"
     ]
    }
   ],
   "source": [
    "url_str = \"https://jiji.co.ke/parklands-highridge/cars/lexus-rx-2009-white-uH17rjuEUrDi82TExWURNYoW.html?lid=2ahVoB-0WVLnqJv8&cur_pos=6&pos=6&ads_count=273&ads_per_page=20&page=1\"\n",
    "parse_url = urlparse(url_str) \n",
    "print(parse_url) "
   ]
  },
  {
   "cell_type": "code",
   "execution_count": 18,
   "metadata": {},
   "outputs": [
    {
     "name": "stdout",
     "output_type": "stream",
     "text": [
      "\n",
      "https://jiji.co.ke/parklands-highridge/cars/lexus-rx-2009-white-uH17rjuEUrDi82TExWURNYoW.html?lid=2ahVoB-0WVLnqJv8&cur_pos=6&pos=6&ads_count=273&ads_per_page=20&page=1\n",
      "\n"
     ]
    }
   ],
   "source": [
    "# The different components of a URL are separated and joined again. \n",
    "unparse_url = urlunparse(parse_url) \n",
    "print(unparse_url) "
   ]
  },
  {
   "cell_type": "code",
   "execution_count": null,
   "metadata": {},
   "outputs": [],
   "source": []
  }
 ],
 "metadata": {
  "kernelspec": {
   "display_name": "Python 3",
   "language": "python",
   "name": "python3"
  },
  "language_info": {
   "codemirror_mode": {
    "name": "ipython",
    "version": 3
   },
   "file_extension": ".py",
   "mimetype": "text/x-python",
   "name": "python",
   "nbconvert_exporter": "python",
   "pygments_lexer": "ipython3",
   "version": "3.8.3"
  }
 },
 "nbformat": 4,
 "nbformat_minor": 4
}
