{
 "cells": [
  {
   "cell_type": "markdown",
   "metadata": {},
   "source": [
    "# 1.2 Objects in Python"
   ]
  },
  {
   "cell_type": "markdown",
   "metadata": {},
   "source": [
    "## 1.2.3 Python's Built-In Classes"
   ]
  },
  {
   "cell_type": "code",
   "execution_count": 4,
   "metadata": {},
   "outputs": [
    {
     "name": "stdout",
     "output_type": "stream",
     "text": [
      "['red', 'green', 'blue']\n",
      "['h', 'e', 'l', 'l', 'o']\n",
      "[]\n"
     ]
    }
   ],
   "source": [
    "# The list Class\n",
    "list1 = ['red', 'green', 'blue']\n",
    "list2 = list('hello')\n",
    "empty_list = []\n",
    "\n",
    "print(list1)\n",
    "print(list2)\n",
    "print(empty_list)"
   ]
  },
  {
   "cell_type": "code",
   "execution_count": 5,
   "metadata": {},
   "outputs": [
    {
     "name": "stdout",
     "output_type": "stream",
     "text": [
      "()\n",
      "(17,)\n",
      "('red', 'green', 'blue')\n"
     ]
    }
   ],
   "source": [
    "# The tuple Class\n",
    "# The tuple class provides an immutable version of a sequence.\n",
    "empty_tuple = ()\n",
    "one_element_tuple = (17,)  # Note, this is not expressed as (17)\n",
    "big_tuple = ('red', 'green', 'blue')\n",
    "\n",
    "print(empty_tuple)\n",
    "print(one_element_tuple)\n",
    "print(big_tuple)"
   ]
  },
  {
   "cell_type": "code",
   "execution_count": 7,
   "metadata": {},
   "outputs": [
    {
     "name": "stdout",
     "output_type": "stream",
     "text": [
      "Don't worry\n",
      "Don't worry\n",
      "20€\n",
      "\n",
      "\n",
      "Welcome to the GPA calculator.\n",
      "Please enter all your letter grades, one per line.\n",
      "Enter a blank line to designate the end.\n"
     ]
    }
   ],
   "source": [
    "# The str Class\n",
    "str1 = 'Don\\'t worry'\n",
    "str2 = \"Don't worry\"\n",
    "unicode_str = '20\\u20AC'\n",
    "\n",
    "print(str1)\n",
    "print(str2)\n",
    "print(unicode_str)\n",
    "\n",
    "print(\"\\n\")\n",
    "print(\"\"\"Welcome to the GPA calculator.\n",
    "Please enter all your letter grades, one per line.\n",
    "Enter a blank line to designate the end.\"\"\")"
   ]
  },
  {
   "cell_type": "code",
   "execution_count": 10,
   "metadata": {},
   "outputs": [
    {
     "name": "stdout",
     "output_type": "stream",
     "text": [
      "{'ga': 'Irish', 'de': 'German'}\n",
      "{'en': 'English', 'it': 'Italian'}\n"
     ]
    }
   ],
   "source": [
    "# The dict Class\n",
    "# Python’s dict class represents a dictionary, or mapping, from a set of distinct keys to associated values.\n",
    "dict1 = {'ga' : 'Irish', 'de' : 'German'}\n",
    "\n",
    "pairs = [('en', 'English'), ('it', 'Italian')]\n",
    "dict2 = dict(pairs)  # the constructor accepts a sequence of key-value pairs as a parameter\n",
    "\n",
    "print(dict1)\n",
    "print(dict2)"
   ]
  },
  {
   "cell_type": "markdown",
   "metadata": {},
   "source": [
    "# 1.3 Expressions, Operators, and Precedence"
   ]
  },
  {
   "cell_type": "code",
   "execution_count": 16,
   "metadata": {},
   "outputs": [
    {
     "name": "stdout",
     "output_type": "stream",
     "text": [
      "a is b:  False\n",
      "a == b:  True\n",
      "a is not b:  True\n",
      "a != b:  False\n",
      "\n",
      "a and b are now aliases of the same object.\n",
      "a is b:  True\n",
      "a == b:  True\n",
      "a is not b:  False\n",
      "a != b:  False\n"
     ]
    }
   ],
   "source": [
    "# Equality Operators\n",
    "a = {'ga' : 'Irish', 'de' : 'German'}\n",
    "b = {'ga' : 'Irish', 'de' : 'German'}\n",
    "\n",
    "print('a is b: ', a is b)   # same identity\n",
    "print('a == b: ', a == b)   # different identity\n",
    "print('a is not b: ', a is not b)\n",
    "print('a != b: ', a != b)\n",
    "\n",
    "b = a\n",
    "\n",
    "print('\\na and b are now aliases of the same object.')\n",
    "print('a is b: ', a is b)\n",
    "print('a == b: ', a == b)\n",
    "print('a is not b: ', a is not b)\n",
    "print('a != b: ', a != b)\n",
    "\n",
    "\"\"\"\n",
    "Note that 'is' and 'is not' behave differently for strings than other objects.\n",
    "The use of 'is' and 'is not' should be reserved for situations where it is necessary to detect true aliasing.\n",
    "\"\"\""
   ]
  },
  {
   "cell_type": "code",
   "execution_count": 19,
   "metadata": {},
   "outputs": [
    {
     "name": "stdout",
     "output_type": "stream",
     "text": [
      "a / b:  7.666666666666667\n",
      "a // b:  7\n",
      "a % b:  2\n",
      "\n",
      "Arithmetic operators for negative numbers\n",
      "a / b:  -7.666666666666667\n",
      "a // b:  -8\n",
      "a % b:  1\n"
     ]
    }
   ],
   "source": [
    "# Arithmetic Operators\n",
    "a = 23\n",
    "b = 3\n",
    "\n",
    "print('a / b: ', a / b)\n",
    "print('a // b: ', a // b)\n",
    "print('a % b: ', a % b)\n",
    "\n",
    "a = -23\n",
    "b = 3\n",
    "\n",
    "print('\\nArithmetic operators for negative numbers')\n",
    "print('a / b: ', a / b)\n",
    "print('a // b: ', a // b)\n",
    "print('a % b: ', a % b)\n",
    "\n",
    "# Take q = n // m and r = n % m. Python guarantees that q * m + r will equal n."
   ]
  },
  {
   "cell_type": "code",
   "execution_count": 20,
   "metadata": {},
   "outputs": [
    {
     "data": {
      "text/plain": [
       "'\\nPython provides the following bitwise operators for integers:\\n∼ bitwise complement (prefix unary operator)\\n& bitwise and\\n| bitwise or\\nˆ bitwise exclusive-or\\n<< shift bits left, filling in with zeros\\n>> shift bits right, filling in with sign bit\\n'"
      ]
     },
     "execution_count": 20,
     "metadata": {},
     "output_type": "execute_result"
    }
   ],
   "source": [
    "# Bitwise Operators\n",
    "\"\"\"\n",
    "Python provides the following bitwise operators for integers:\n",
    "∼ bitwise complement (prefix unary operator)\n",
    "& bitwise and\n",
    "| bitwise or\n",
    "ˆ bitwise exclusive-or\n",
    "<< shift bits left, filling in with zeros\n",
    ">> shift bits right, filling in with sign bit\n",
    "\"\"\""
   ]
  },
  {
   "cell_type": "code",
   "execution_count": null,
   "metadata": {},
   "outputs": [],
   "source": [
    "# Sequence Operators\n",
    "\"\"\"\n",
    "Each of Python’s built-in sequence types (str, tuple, and list) support the following operator syntaxes:\n",
    "    s[j] element at index j\n",
    "    s[start:stop] slice including indices [start,stop)\n",
    "    s[start:stop:step] slice including indices start, start + step, start + 2*step, ..., up to but not equalling or stop\n",
    "    s + t concatenation of sequences\n",
    "    k * s shorthand for s + s + s + ... (k times)\n",
    "    val in s containment check\n",
    "    val not in s non-containment check\n",
    "\n",
    "Python also supports the use of negative indices, which denote a distance from the end of the sequence; index −1 denotes\n",
    "the last element, index −2 the second to last, and so on.\n",
    "\n",
    "Because lists are mutable, the syntax s[j] = val can be used to replace an element at a given index. Lists also support a \n",
    "syntax, del s[j], that removes the designated element from the list. Slice notation can also be used to replace or delete a\n",
    "sublist.\n",
    "\n",
    "The notation val in s can be used for any of the sequences to see if there is an\n",
    "element equivalent to val in the sequence. For strings, this syntax can be used to\n",
    "check for a single character or for a larger substring, as with 'amp' in 'example'.\n",
    "\n",
    "All sequences define comparison operations based on lexicographic order, performing an element by element comparison until the first difference is found. For\n",
    "example, [5, 6, 9] < [5, 7] because of the entries at index 1. Therefore, the following operations are supported by sequence types:\n",
    "    s == t equivalent (element by element)\n",
    "    s != t not equivalent\n",
    "    s < t lexicographically less than\n",
    "    s <= t lexicographically less than or equal to\n",
    "    s > t lexicographically greater than\n",
    "    s >= t lexicographically greater than or equal to\n",
    "\"\"\""
   ]
  },
  {
   "cell_type": "code",
   "execution_count": null,
   "metadata": {},
   "outputs": [],
   "source": [
    "# Operators for Sets and Dictionaries\n",
    "\"\"\"\n",
    "Sets and frozensets support the following operators:\n",
    "    key in s       containment check\n",
    "    key not in s   non-containment check\n",
    "    s1 == s2       s1 is equivalent to s2\n",
    "    s1 != s2       s1 is not equivalent to s2\n",
    "    s1 <= s2       s1 is subset of s2\n",
    "    s1 < s2        s1 is proper subset of s2\n",
    "    s1 >= s2       s1 is superset of s2\n",
    "    s1 > s2        s1 is proper superset of s2\n",
    "    s1 | s2        the union of s1 and s2\n",
    "    s1 & s2        the intersection of s1 and s2\n",
    "    s1 − s2        the set of elements in s1 but not s2\n",
    "    s1 ˆ s2        the set of elements in precisely one of s1 or s2\n",
    "\n",
    "The most widely used behavior of dictionaries is accessing a value associated with a particular key k with the indexing syntax, d[k]. The supported\n",
    "operators are as follows:\n",
    "    d[key]           value associated with given key\n",
    "    d[key] = value   set (or reset) the value associated with given key\n",
    "    del d[key]       remove key and its associated value from dictionary\n",
    "    key in d         containment check\n",
    "    key not in d     non-containment check\n",
    "    d1 == d2         d1 is equivalent to d2\n",
    "    d1 != d2         d1 is not equivalent to d2\n",
    "\"\"\""
   ]
  },
  {
   "cell_type": "markdown",
   "metadata": {},
   "source": [
    "### 1.3.1 Compound Expressions and Operator Precedence"
   ]
  },
  {
   "cell_type": "code",
   "execution_count": null,
   "metadata": {},
   "outputs": [],
   "source": [
    "\"\"\"\n",
    "Python allows a chained assignment, such as x = y = 0, to assign multiple identifiers to the rightmost value.\n",
    "\n",
    "Python also allows the chaining of comparison operators. For example, the expression 1 <= x + y <= 10 is evaluated as the\n",
    "compound (1 <= x + y) and (x + y <= 10), but without computing the intermediate value x + y twice.\n",
    "\"\"\""
   ]
  },
  {
   "cell_type": "markdown",
   "metadata": {},
   "source": [
    "# 1.4 Control Flow"
   ]
  },
  {
   "cell_type": "markdown",
   "metadata": {},
   "source": [
    "### 1.4.1 Conditionals"
   ]
  },
  {
   "cell_type": "code",
   "execution_count": null,
   "metadata": {},
   "outputs": [],
   "source": [
    "\"\"\"\n",
    "Conditional constructs are also known as 'if' statements.\n",
    "\n",
    "if first condition:\n",
    "    first body\n",
    "elif second condition:\n",
    "    second body\n",
    "elif third condition:\n",
    "    third body\n",
    "else:\n",
    "    fourth body\n",
    "\"\"\"    "
   ]
  },
  {
   "cell_type": "markdown",
   "metadata": {},
   "source": [
    "### 1.4.2 Loops"
   ]
  },
  {
   "cell_type": "code",
   "execution_count": null,
   "metadata": {},
   "outputs": [],
   "source": [
    "# While Loops\n",
    "\"\"\"\n",
    "The syntax for a while loop in Python is as follows:\n",
    "    while condition:\n",
    "        body\n",
    "\"\"\"\n",
    "\n",
    "# For Loops\n",
    "\"\"\"\n",
    "The for-loop syntax can be used on any type of iterable structure, such as a list, tuple, str, set, dict, or file. \n",
    "Its general syntax appears as follows.\n",
    "    for element in iterable:\n",
    "        body     # body may refer to element as an identifier\n",
    "\"\"\"\n",
    "\n",
    "# Index-Based For Loops\n",
    "\"\"\"\n",
    "A standard Python idiom for looping through the series of indices of a data sequence uses a syntax is:\n",
    "    for j in range(len(data)):\n",
    "\"\"\"\n",
    "\n",
    "# Break and Continue Statements\n",
    "found = False\n",
    "for item in data:\n",
    "    if item == target:\n",
    "        found = True\n",
    "        break\n",
    "\"\"\"\n",
    "Python also supports a continue statement that causes the current iteration of a\n",
    "loop body to stop, but with subsequent passes of the loop proceeding as expected.\n",
    "We recommend that the break and continue statements be used sparingly.\n",
    "\"\"\""
   ]
  },
  {
   "cell_type": "markdown",
   "metadata": {},
   "source": [
    "# 1.5 Functions"
   ]
  },
  {
   "cell_type": "markdown",
   "metadata": {},
   "source": [
    "We \n",
    "use the general term\" functio\"n to describe a traditional, stateless function that is invoked\r\n",
    "without the context of a particular class or an instance of that class, such as\r\n",
    "sorted(data). We use the more specific term method to describe a member function\r\n",
    "that is invoked upon a specific object using an object-oriented message passing syntax,\r\n",
    "such as data.sort( )."
   ]
  },
  {
   "cell_type": "markdown",
   "metadata": {},
   "source": [
    "# 1.8 Iterators and Generators"
   ]
  },
  {
   "cell_type": "markdown",
   "metadata": {},
   "source": [
    "An example of an iterator"
   ]
  },
  {
   "cell_type": "code",
   "execution_count": 4,
   "metadata": {},
   "outputs": [
    {
     "name": "stdout",
     "output_type": "stream",
     "text": [
      "0\n",
      "1\n",
      "2\n",
      "3\n",
      "4\n"
     ]
    }
   ],
   "source": [
    "for j in range(5):\n",
    "    print (j)"
   ]
  },
  {
   "cell_type": "markdown",
   "metadata": {},
   "source": [
    "An example of a generator"
   ]
  },
  {
   "cell_type": "code",
   "execution_count": 2,
   "metadata": {},
   "outputs": [],
   "source": [
    "def factors(n):\n",
    "    for k in range(1,n+1):\n",
    "        if n % k == 0:\n",
    "            yield k"
   ]
  },
  {
   "cell_type": "code",
   "execution_count": 5,
   "metadata": {},
   "outputs": [
    {
     "name": "stdout",
     "output_type": "stream",
     "text": [
      "1\n",
      "2\n",
      "4\n",
      "5\n",
      "10\n",
      "20\n",
      "25\n",
      "50\n",
      "100\n"
     ]
    }
   ],
   "source": [
    "for factor in factors(100):\n",
    "    print(str(factor))"
   ]
  },
  {
   "cell_type": "code",
   "execution_count": 6,
   "metadata": {},
   "outputs": [],
   "source": [
    "def factors2(n):\n",
    "    k=1\n",
    "    while k*k < n:\n",
    "        if n % k == 0:\n",
    "            yield k\n",
    "            yield n // k\n",
    "        k = k+1\n",
    "    if k*k == n:\n",
    "        yield k"
   ]
  },
  {
   "cell_type": "code",
   "execution_count": 7,
   "metadata": {},
   "outputs": [
    {
     "name": "stdout",
     "output_type": "stream",
     "text": [
      "1\n",
      "100\n",
      "2\n",
      "50\n",
      "4\n",
      "25\n",
      "5\n",
      "20\n",
      "10\n"
     ]
    }
   ],
   "source": [
    "for factor in factors2(100):\n",
    "    print(str(factor))"
   ]
  },
  {
   "cell_type": "code",
   "execution_count": null,
   "metadata": {},
   "outputs": [],
   "source": []
  }
 ],
 "metadata": {
  "kernelspec": {
   "display_name": "Python 3 (ipykernel)",
   "language": "python",
   "name": "python3"
  },
  "language_info": {
   "codemirror_mode": {
    "name": "ipython",
    "version": 3
   },
   "file_extension": ".py",
   "mimetype": "text/x-python",
   "name": "python",
   "nbconvert_exporter": "python",
   "pygments_lexer": "ipython3",
   "version": "3.11.6"
  }
 },
 "nbformat": 4,
 "nbformat_minor": 4
}
